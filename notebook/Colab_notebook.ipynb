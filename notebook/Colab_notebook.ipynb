{
  "cells": [
    {
      "cell_type": "code",
      "execution_count": 45,
      "metadata": {
        "colab": {
          "base_uri": "https://localhost:8080/"
        },
        "id": "NNndheVITcWW",
        "outputId": "29604d45-df60-41c7-8c10-3e0460160343"
      },
      "outputs": [
        {
          "name": "stdout",
          "output_type": "stream",
          "text": [
            "Requirement already satisfied: langchain in /usr/local/lib/python3.10/dist-packages (0.3.3)\n",
            "Requirement already satisfied: pinecone-client in /usr/local/lib/python3.10/dist-packages (5.0.1)\n",
            "Requirement already satisfied: langchain-google-genai in /usr/local/lib/python3.10/dist-packages (2.0.1)\n",
            "Requirement already satisfied: cohere in /usr/local/lib/python3.10/dist-packages (5.11.0)\n",
            "Requirement already satisfied: langchain_community in /usr/local/lib/python3.10/dist-packages (0.3.2)\n",
            "Requirement already satisfied: langchain-groq in /usr/local/lib/python3.10/dist-packages (0.2.0)\n",
            "Requirement already satisfied: pypdf in /usr/local/lib/python3.10/dist-packages (5.0.1)\n",
            "Requirement already satisfied: PyYAML>=5.3 in /usr/local/lib/python3.10/dist-packages (from langchain) (6.0.2)\n",
            "Requirement already satisfied: SQLAlchemy<3,>=1.4 in /usr/local/lib/python3.10/dist-packages (from langchain) (2.0.35)\n",
            "Requirement already satisfied: aiohttp<4.0.0,>=3.8.3 in /usr/local/lib/python3.10/dist-packages (from langchain) (3.10.10)\n",
            "Requirement already satisfied: async-timeout<5.0.0,>=4.0.0 in /usr/local/lib/python3.10/dist-packages (from langchain) (4.0.3)\n",
            "Requirement already satisfied: langchain-core<0.4.0,>=0.3.10 in /usr/local/lib/python3.10/dist-packages (from langchain) (0.3.12)\n",
            "Requirement already satisfied: langchain-text-splitters<0.4.0,>=0.3.0 in /usr/local/lib/python3.10/dist-packages (from langchain) (0.3.0)\n",
            "Requirement already satisfied: langsmith<0.2.0,>=0.1.17 in /usr/local/lib/python3.10/dist-packages (from langchain) (0.1.136)\n",
            "Requirement already satisfied: numpy<2,>=1 in /usr/local/lib/python3.10/dist-packages (from langchain) (1.26.4)\n",
            "Requirement already satisfied: pydantic<3.0.0,>=2.7.4 in /usr/local/lib/python3.10/dist-packages (from langchain) (2.9.2)\n",
            "Requirement already satisfied: requests<3,>=2 in /usr/local/lib/python3.10/dist-packages (from langchain) (2.32.3)\n",
            "Requirement already satisfied: tenacity!=8.4.0,<9.0.0,>=8.1.0 in /usr/local/lib/python3.10/dist-packages (from langchain) (8.5.0)\n",
            "Requirement already satisfied: certifi>=2019.11.17 in /usr/local/lib/python3.10/dist-packages (from pinecone-client) (2024.8.30)\n",
            "Requirement already satisfied: pinecone-plugin-inference<2.0.0,>=1.0.3 in /usr/local/lib/python3.10/dist-packages (from pinecone-client) (1.1.0)\n",
            "Requirement already satisfied: pinecone-plugin-interface<0.0.8,>=0.0.7 in /usr/local/lib/python3.10/dist-packages (from pinecone-client) (0.0.7)\n",
            "Requirement already satisfied: tqdm>=4.64.1 in /usr/local/lib/python3.10/dist-packages (from pinecone-client) (4.66.5)\n",
            "Requirement already satisfied: typing-extensions>=3.7.4 in /usr/local/lib/python3.10/dist-packages (from pinecone-client) (4.12.2)\n",
            "Requirement already satisfied: urllib3>=1.26.0 in /usr/local/lib/python3.10/dist-packages (from pinecone-client) (2.2.3)\n",
            "Requirement already satisfied: google-generativeai<0.9.0,>=0.8.0 in /usr/local/lib/python3.10/dist-packages (from langchain-google-genai) (0.8.3)\n",
            "Requirement already satisfied: boto3<2.0.0,>=1.34.0 in /usr/local/lib/python3.10/dist-packages (from cohere) (1.35.43)\n",
            "Requirement already satisfied: fastavro<2.0.0,>=1.9.4 in /usr/local/lib/python3.10/dist-packages (from cohere) (1.9.7)\n",
            "Requirement already satisfied: httpx>=0.21.2 in /usr/local/lib/python3.10/dist-packages (from cohere) (0.27.2)\n",
            "Requirement already satisfied: httpx-sse==0.4.0 in /usr/local/lib/python3.10/dist-packages (from cohere) (0.4.0)\n",
            "Requirement already satisfied: parameterized<0.10.0,>=0.9.0 in /usr/local/lib/python3.10/dist-packages (from cohere) (0.9.0)\n",
            "Requirement already satisfied: pydantic-core<3.0.0,>=2.18.2 in /usr/local/lib/python3.10/dist-packages (from cohere) (2.23.4)\n",
            "Requirement already satisfied: sagemaker<3.0.0,>=2.232.1 in /usr/local/lib/python3.10/dist-packages (from cohere) (2.232.2)\n",
            "Requirement already satisfied: tokenizers<1,>=0.15 in /usr/local/lib/python3.10/dist-packages (from cohere) (0.19.1)\n",
            "Requirement already satisfied: types-requests<3.0.0,>=2.0.0 in /usr/local/lib/python3.10/dist-packages (from cohere) (2.32.0.20241016)\n",
            "Requirement already satisfied: dataclasses-json<0.7,>=0.5.7 in /usr/local/lib/python3.10/dist-packages (from langchain_community) (0.6.7)\n",
            "Requirement already satisfied: pydantic-settings<3.0.0,>=2.4.0 in /usr/local/lib/python3.10/dist-packages (from langchain_community) (2.6.0)\n",
            "Requirement already satisfied: groq<1,>=0.4.1 in /usr/local/lib/python3.10/dist-packages (from langchain-groq) (0.11.0)\n",
            "Requirement already satisfied: aiohappyeyeballs>=2.3.0 in /usr/local/lib/python3.10/dist-packages (from aiohttp<4.0.0,>=3.8.3->langchain) (2.4.3)\n",
            "Requirement already satisfied: aiosignal>=1.1.2 in /usr/local/lib/python3.10/dist-packages (from aiohttp<4.0.0,>=3.8.3->langchain) (1.3.1)\n",
            "Requirement already satisfied: attrs>=17.3.0 in /usr/local/lib/python3.10/dist-packages (from aiohttp<4.0.0,>=3.8.3->langchain) (23.2.0)\n",
            "Requirement already satisfied: frozenlist>=1.1.1 in /usr/local/lib/python3.10/dist-packages (from aiohttp<4.0.0,>=3.8.3->langchain) (1.4.1)\n",
            "Requirement already satisfied: multidict<7.0,>=4.5 in /usr/local/lib/python3.10/dist-packages (from aiohttp<4.0.0,>=3.8.3->langchain) (6.1.0)\n",
            "Requirement already satisfied: yarl<2.0,>=1.12.0 in /usr/local/lib/python3.10/dist-packages (from aiohttp<4.0.0,>=3.8.3->langchain) (1.14.0)\n",
            "Requirement already satisfied: botocore<1.36.0,>=1.35.43 in /usr/local/lib/python3.10/dist-packages (from boto3<2.0.0,>=1.34.0->cohere) (1.35.43)\n",
            "Requirement already satisfied: jmespath<2.0.0,>=0.7.1 in /usr/local/lib/python3.10/dist-packages (from boto3<2.0.0,>=1.34.0->cohere) (1.0.1)\n",
            "Requirement already satisfied: s3transfer<0.11.0,>=0.10.0 in /usr/local/lib/python3.10/dist-packages (from boto3<2.0.0,>=1.34.0->cohere) (0.10.3)\n",
            "Requirement already satisfied: marshmallow<4.0.0,>=3.18.0 in /usr/local/lib/python3.10/dist-packages (from dataclasses-json<0.7,>=0.5.7->langchain_community) (3.23.0)\n",
            "Requirement already satisfied: typing-inspect<1,>=0.4.0 in /usr/local/lib/python3.10/dist-packages (from dataclasses-json<0.7,>=0.5.7->langchain_community) (0.9.0)\n",
            "Requirement already satisfied: google-ai-generativelanguage==0.6.10 in /usr/local/lib/python3.10/dist-packages (from google-generativeai<0.9.0,>=0.8.0->langchain-google-genai) (0.6.10)\n",
            "Requirement already satisfied: google-api-core in /usr/local/lib/python3.10/dist-packages (from google-generativeai<0.9.0,>=0.8.0->langchain-google-genai) (2.19.2)\n",
            "Requirement already satisfied: google-api-python-client in /usr/local/lib/python3.10/dist-packages (from google-generativeai<0.9.0,>=0.8.0->langchain-google-genai) (2.137.0)\n",
            "Requirement already satisfied: google-auth>=2.15.0 in /usr/local/lib/python3.10/dist-packages (from google-generativeai<0.9.0,>=0.8.0->langchain-google-genai) (2.27.0)\n",
            "Requirement already satisfied: protobuf in /usr/local/lib/python3.10/dist-packages (from google-generativeai<0.9.0,>=0.8.0->langchain-google-genai) (3.20.3)\n",
            "Requirement already satisfied: proto-plus<2.0.0dev,>=1.22.3 in /usr/local/lib/python3.10/dist-packages (from google-ai-generativelanguage==0.6.10->google-generativeai<0.9.0,>=0.8.0->langchain-google-genai) (1.24.0)\n",
            "Requirement already satisfied: anyio<5,>=3.5.0 in /usr/local/lib/python3.10/dist-packages (from groq<1,>=0.4.1->langchain-groq) (3.7.1)\n",
            "Requirement already satisfied: distro<2,>=1.7.0 in /usr/lib/python3/dist-packages (from groq<1,>=0.4.1->langchain-groq) (1.7.0)\n",
            "Requirement already satisfied: sniffio in /usr/local/lib/python3.10/dist-packages (from groq<1,>=0.4.1->langchain-groq) (1.3.1)\n",
            "Requirement already satisfied: httpcore==1.* in /usr/local/lib/python3.10/dist-packages (from httpx>=0.21.2->cohere) (1.0.6)\n",
            "Requirement already satisfied: idna in /usr/local/lib/python3.10/dist-packages (from httpx>=0.21.2->cohere) (3.10)\n",
            "Requirement already satisfied: h11<0.15,>=0.13 in /usr/local/lib/python3.10/dist-packages (from httpcore==1.*->httpx>=0.21.2->cohere) (0.14.0)\n",
            "Requirement already satisfied: jsonpatch<2.0,>=1.33 in /usr/local/lib/python3.10/dist-packages (from langchain-core<0.4.0,>=0.3.10->langchain) (1.33)\n",
            "Requirement already satisfied: packaging<25,>=23.2 in /usr/local/lib/python3.10/dist-packages (from langchain-core<0.4.0,>=0.3.10->langchain) (24.1)\n",
            "Requirement already satisfied: orjson<4.0.0,>=3.9.14 in /usr/local/lib/python3.10/dist-packages (from langsmith<0.2.0,>=0.1.17->langchain) (3.10.7)\n",
            "Requirement already satisfied: requests-toolbelt<2.0.0,>=1.0.0 in /usr/local/lib/python3.10/dist-packages (from langsmith<0.2.0,>=0.1.17->langchain) (1.0.0)\n",
            "Requirement already satisfied: annotated-types>=0.6.0 in /usr/local/lib/python3.10/dist-packages (from pydantic<3.0.0,>=2.7.4->langchain) (0.7.0)\n",
            "Requirement already satisfied: python-dotenv>=0.21.0 in /usr/local/lib/python3.10/dist-packages (from pydantic-settings<3.0.0,>=2.4.0->langchain_community) (1.0.1)\n",
            "Requirement already satisfied: charset-normalizer<4,>=2 in /usr/local/lib/python3.10/dist-packages (from requests<3,>=2->langchain) (3.4.0)\n",
            "Requirement already satisfied: cloudpickle==2.2.1 in /usr/local/lib/python3.10/dist-packages (from sagemaker<3.0.0,>=2.232.1->cohere) (2.2.1)\n",
            "Requirement already satisfied: docker in /usr/local/lib/python3.10/dist-packages (from sagemaker<3.0.0,>=2.232.1->cohere) (7.1.0)\n",
            "Requirement already satisfied: google-pasta in /usr/local/lib/python3.10/dist-packages (from sagemaker<3.0.0,>=2.232.1->cohere) (0.2.0)\n",
            "Requirement already satisfied: importlib-metadata<7.0,>=1.4.0 in /usr/local/lib/python3.10/dist-packages (from sagemaker<3.0.0,>=2.232.1->cohere) (6.11.0)\n",
            "Requirement already satisfied: jsonschema in /usr/local/lib/python3.10/dist-packages (from sagemaker<3.0.0,>=2.232.1->cohere) (4.23.0)\n",
            "Requirement already satisfied: pandas in /usr/local/lib/python3.10/dist-packages (from sagemaker<3.0.0,>=2.232.1->cohere) (2.2.2)\n",
            "Requirement already satisfied: pathos in /usr/local/lib/python3.10/dist-packages (from sagemaker<3.0.0,>=2.232.1->cohere) (0.3.3)\n",
            "Requirement already satisfied: platformdirs in /usr/local/lib/python3.10/dist-packages (from sagemaker<3.0.0,>=2.232.1->cohere) (4.3.6)\n",
            "Requirement already satisfied: psutil in /usr/local/lib/python3.10/dist-packages (from sagemaker<3.0.0,>=2.232.1->cohere) (5.9.5)\n",
            "Requirement already satisfied: sagemaker-core<2.0.0,>=1.0.0 in /usr/local/lib/python3.10/dist-packages (from sagemaker<3.0.0,>=2.232.1->cohere) (1.0.10)\n",
            "Requirement already satisfied: sagemaker-mlflow in /usr/local/lib/python3.10/dist-packages (from sagemaker<3.0.0,>=2.232.1->cohere) (0.1.0)\n",
            "Requirement already satisfied: schema in /usr/local/lib/python3.10/dist-packages (from sagemaker<3.0.0,>=2.232.1->cohere) (0.7.7)\n",
            "Requirement already satisfied: smdebug-rulesconfig==1.0.1 in /usr/local/lib/python3.10/dist-packages (from sagemaker<3.0.0,>=2.232.1->cohere) (1.0.1)\n",
            "Requirement already satisfied: tblib<4,>=1.7.0 in /usr/local/lib/python3.10/dist-packages (from sagemaker<3.0.0,>=2.232.1->cohere) (3.0.0)\n",
            "Requirement already satisfied: greenlet!=0.4.17 in /usr/local/lib/python3.10/dist-packages (from SQLAlchemy<3,>=1.4->langchain) (3.1.1)\n",
            "Requirement already satisfied: huggingface-hub<1.0,>=0.16.4 in /usr/local/lib/python3.10/dist-packages (from tokenizers<1,>=0.15->cohere) (0.24.7)\n",
            "Requirement already satisfied: exceptiongroup in /usr/local/lib/python3.10/dist-packages (from anyio<5,>=3.5.0->groq<1,>=0.4.1->langchain-groq) (1.2.2)\n",
            "Requirement already satisfied: python-dateutil<3.0.0,>=2.1 in /usr/local/lib/python3.10/dist-packages (from botocore<1.36.0,>=1.35.43->boto3<2.0.0,>=1.34.0->cohere) (2.8.2)\n",
            "Requirement already satisfied: googleapis-common-protos<2.0.dev0,>=1.56.2 in /usr/local/lib/python3.10/dist-packages (from google-api-core->google-generativeai<0.9.0,>=0.8.0->langchain-google-genai) (1.65.0)\n",
            "Requirement already satisfied: cachetools<6.0,>=2.0.0 in /usr/local/lib/python3.10/dist-packages (from google-auth>=2.15.0->google-generativeai<0.9.0,>=0.8.0->langchain-google-genai) (5.5.0)\n",
            "Requirement already satisfied: pyasn1-modules>=0.2.1 in /usr/local/lib/python3.10/dist-packages (from google-auth>=2.15.0->google-generativeai<0.9.0,>=0.8.0->langchain-google-genai) (0.4.1)\n",
            "Requirement already satisfied: rsa<5,>=3.1.4 in /usr/local/lib/python3.10/dist-packages (from google-auth>=2.15.0->google-generativeai<0.9.0,>=0.8.0->langchain-google-genai) (4.9)\n",
            "Requirement already satisfied: filelock in /usr/local/lib/python3.10/dist-packages (from huggingface-hub<1.0,>=0.16.4->tokenizers<1,>=0.15->cohere) (3.16.1)\n",
            "Requirement already satisfied: fsspec>=2023.5.0 in /usr/local/lib/python3.10/dist-packages (from huggingface-hub<1.0,>=0.16.4->tokenizers<1,>=0.15->cohere) (2024.6.1)\n",
            "Requirement already satisfied: zipp>=0.5 in /usr/local/lib/python3.10/dist-packages (from importlib-metadata<7.0,>=1.4.0->sagemaker<3.0.0,>=2.232.1->cohere) (3.20.2)\n",
            "Requirement already satisfied: jsonpointer>=1.9 in /usr/local/lib/python3.10/dist-packages (from jsonpatch<2.0,>=1.33->langchain-core<0.4.0,>=0.3.10->langchain) (3.0.0)\n",
            "Requirement already satisfied: rich<14.0.0,>=13.0.0 in /usr/local/lib/python3.10/dist-packages (from sagemaker-core<2.0.0,>=1.0.0->sagemaker<3.0.0,>=2.232.1->cohere) (13.9.2)\n",
            "Requirement already satisfied: mock<5.0,>4.0 in /usr/local/lib/python3.10/dist-packages (from sagemaker-core<2.0.0,>=1.0.0->sagemaker<3.0.0,>=2.232.1->cohere) (4.0.3)\n",
            "Requirement already satisfied: jsonschema-specifications>=2023.03.6 in /usr/local/lib/python3.10/dist-packages (from jsonschema->sagemaker<3.0.0,>=2.232.1->cohere) (2024.10.1)\n",
            "Requirement already satisfied: referencing>=0.28.4 in /usr/local/lib/python3.10/dist-packages (from jsonschema->sagemaker<3.0.0,>=2.232.1->cohere) (0.35.1)\n",
            "Requirement already satisfied: rpds-py>=0.7.1 in /usr/local/lib/python3.10/dist-packages (from jsonschema->sagemaker<3.0.0,>=2.232.1->cohere) (0.20.0)\n",
            "Requirement already satisfied: mypy-extensions>=0.3.0 in /usr/local/lib/python3.10/dist-packages (from typing-inspect<1,>=0.4.0->dataclasses-json<0.7,>=0.5.7->langchain_community) (1.0.0)\n",
            "Requirement already satisfied: propcache>=0.2.0 in /usr/local/lib/python3.10/dist-packages (from yarl<2.0,>=1.12.0->aiohttp<4.0.0,>=3.8.3->langchain) (0.2.0)\n",
            "Requirement already satisfied: httplib2<1.dev0,>=0.19.0 in /usr/local/lib/python3.10/dist-packages (from google-api-python-client->google-generativeai<0.9.0,>=0.8.0->langchain-google-genai) (0.22.0)\n",
            "Requirement already satisfied: google-auth-httplib2<1.0.0,>=0.2.0 in /usr/local/lib/python3.10/dist-packages (from google-api-python-client->google-generativeai<0.9.0,>=0.8.0->langchain-google-genai) (0.2.0)\n",
            "Requirement already satisfied: uritemplate<5,>=3.0.1 in /usr/local/lib/python3.10/dist-packages (from google-api-python-client->google-generativeai<0.9.0,>=0.8.0->langchain-google-genai) (4.1.1)\n",
            "Requirement already satisfied: six in /usr/local/lib/python3.10/dist-packages (from google-pasta->sagemaker<3.0.0,>=2.232.1->cohere) (1.16.0)\n",
            "Requirement already satisfied: pytz>=2020.1 in /usr/local/lib/python3.10/dist-packages (from pandas->sagemaker<3.0.0,>=2.232.1->cohere) (2024.2)\n",
            "Requirement already satisfied: tzdata>=2022.7 in /usr/local/lib/python3.10/dist-packages (from pandas->sagemaker<3.0.0,>=2.232.1->cohere) (2024.2)\n",
            "Requirement already satisfied: ppft>=1.7.6.9 in /usr/local/lib/python3.10/dist-packages (from pathos->sagemaker<3.0.0,>=2.232.1->cohere) (1.7.6.9)\n",
            "Requirement already satisfied: dill>=0.3.9 in /usr/local/lib/python3.10/dist-packages (from pathos->sagemaker<3.0.0,>=2.232.1->cohere) (0.3.9)\n",
            "Requirement already satisfied: pox>=0.3.5 in /usr/local/lib/python3.10/dist-packages (from pathos->sagemaker<3.0.0,>=2.232.1->cohere) (0.3.5)\n",
            "Requirement already satisfied: multiprocess>=0.70.17 in /usr/local/lib/python3.10/dist-packages (from pathos->sagemaker<3.0.0,>=2.232.1->cohere) (0.70.17)\n",
            "Requirement already satisfied: mlflow>=2.8 in /usr/local/lib/python3.10/dist-packages (from sagemaker-mlflow->sagemaker<3.0.0,>=2.232.1->cohere) (2.17.0)\n",
            "Requirement already satisfied: grpcio<2.0dev,>=1.33.2 in /usr/local/lib/python3.10/dist-packages (from google-api-core[grpc]!=2.0.*,!=2.1.*,!=2.10.*,!=2.2.*,!=2.3.*,!=2.4.*,!=2.5.*,!=2.6.*,!=2.7.*,!=2.8.*,!=2.9.*,<3.0.0dev,>=1.34.1->google-ai-generativelanguage==0.6.10->google-generativeai<0.9.0,>=0.8.0->langchain-google-genai) (1.64.1)\n",
            "Requirement already satisfied: grpcio-status<2.0.dev0,>=1.33.2 in /usr/local/lib/python3.10/dist-packages (from google-api-core[grpc]!=2.0.*,!=2.1.*,!=2.10.*,!=2.2.*,!=2.3.*,!=2.4.*,!=2.5.*,!=2.6.*,!=2.7.*,!=2.8.*,!=2.9.*,<3.0.0dev,>=1.34.1->google-ai-generativelanguage==0.6.10->google-generativeai<0.9.0,>=0.8.0->langchain-google-genai) (1.48.2)\n",
            "Requirement already satisfied: pyparsing!=3.0.0,!=3.0.1,!=3.0.2,!=3.0.3,<4,>=2.4.2 in /usr/local/lib/python3.10/dist-packages (from httplib2<1.dev0,>=0.19.0->google-api-python-client->google-generativeai<0.9.0,>=0.8.0->langchain-google-genai) (3.1.4)\n",
            "Requirement already satisfied: mlflow-skinny==2.17.0 in /usr/local/lib/python3.10/dist-packages (from mlflow>=2.8->sagemaker-mlflow->sagemaker<3.0.0,>=2.232.1->cohere) (2.17.0)\n",
            "Requirement already satisfied: Flask<4 in /usr/local/lib/python3.10/dist-packages (from mlflow>=2.8->sagemaker-mlflow->sagemaker<3.0.0,>=2.232.1->cohere) (2.2.5)\n",
            "Requirement already satisfied: alembic!=1.10.0,<2 in /usr/local/lib/python3.10/dist-packages (from mlflow>=2.8->sagemaker-mlflow->sagemaker<3.0.0,>=2.232.1->cohere) (1.13.3)\n",
            "Requirement already satisfied: graphene<4 in /usr/local/lib/python3.10/dist-packages (from mlflow>=2.8->sagemaker-mlflow->sagemaker<3.0.0,>=2.232.1->cohere) (3.3)\n",
            "Requirement already satisfied: markdown<4,>=3.3 in /usr/local/lib/python3.10/dist-packages (from mlflow>=2.8->sagemaker-mlflow->sagemaker<3.0.0,>=2.232.1->cohere) (3.7)\n",
            "Requirement already satisfied: matplotlib<4 in /usr/local/lib/python3.10/dist-packages (from mlflow>=2.8->sagemaker-mlflow->sagemaker<3.0.0,>=2.232.1->cohere) (3.7.1)\n",
            "Requirement already satisfied: pyarrow<18,>=4.0.0 in /usr/local/lib/python3.10/dist-packages (from mlflow>=2.8->sagemaker-mlflow->sagemaker<3.0.0,>=2.232.1->cohere) (16.1.0)\n",
            "Requirement already satisfied: scikit-learn<2 in /usr/local/lib/python3.10/dist-packages (from mlflow>=2.8->sagemaker-mlflow->sagemaker<3.0.0,>=2.232.1->cohere) (1.5.2)\n",
            "Requirement already satisfied: scipy<2 in /usr/local/lib/python3.10/dist-packages (from mlflow>=2.8->sagemaker-mlflow->sagemaker<3.0.0,>=2.232.1->cohere) (1.13.1)\n",
            "Requirement already satisfied: Jinja2<4,>=2.11 in /usr/local/lib/python3.10/dist-packages (from mlflow>=2.8->sagemaker-mlflow->sagemaker<3.0.0,>=2.232.1->cohere) (3.1.4)\n",
            "Requirement already satisfied: gunicorn<24 in /usr/local/lib/python3.10/dist-packages (from mlflow>=2.8->sagemaker-mlflow->sagemaker<3.0.0,>=2.232.1->cohere) (23.0.0)\n",
            "Requirement already satisfied: click<9,>=7.0 in /usr/local/lib/python3.10/dist-packages (from mlflow-skinny==2.17.0->mlflow>=2.8->sagemaker-mlflow->sagemaker<3.0.0,>=2.232.1->cohere) (8.1.7)\n",
            "Requirement already satisfied: databricks-sdk<1,>=0.20.0 in /usr/local/lib/python3.10/dist-packages (from mlflow-skinny==2.17.0->mlflow>=2.8->sagemaker-mlflow->sagemaker<3.0.0,>=2.232.1->cohere) (0.35.0)\n",
            "Requirement already satisfied: gitpython<4,>=3.1.9 in /usr/local/lib/python3.10/dist-packages (from mlflow-skinny==2.17.0->mlflow>=2.8->sagemaker-mlflow->sagemaker<3.0.0,>=2.232.1->cohere) (3.1.43)\n",
            "Requirement already satisfied: opentelemetry-api<3,>=1.9.0 in /usr/local/lib/python3.10/dist-packages (from mlflow-skinny==2.17.0->mlflow>=2.8->sagemaker-mlflow->sagemaker<3.0.0,>=2.232.1->cohere) (1.16.0)\n",
            "Requirement already satisfied: opentelemetry-sdk<3,>=1.9.0 in /usr/local/lib/python3.10/dist-packages (from mlflow-skinny==2.17.0->mlflow>=2.8->sagemaker-mlflow->sagemaker<3.0.0,>=2.232.1->cohere) (1.16.0)\n",
            "Requirement already satisfied: sqlparse<1,>=0.4.0 in /usr/local/lib/python3.10/dist-packages (from mlflow-skinny==2.17.0->mlflow>=2.8->sagemaker-mlflow->sagemaker<3.0.0,>=2.232.1->cohere) (0.5.1)\n",
            "Requirement already satisfied: pyasn1<0.7.0,>=0.4.6 in /usr/local/lib/python3.10/dist-packages (from pyasn1-modules>=0.2.1->google-auth>=2.15.0->google-generativeai<0.9.0,>=0.8.0->langchain-google-genai) (0.6.1)\n",
            "Requirement already satisfied: markdown-it-py>=2.2.0 in /usr/local/lib/python3.10/dist-packages (from rich<14.0.0,>=13.0.0->sagemaker-core<2.0.0,>=1.0.0->sagemaker<3.0.0,>=2.232.1->cohere) (3.0.0)\n",
            "Requirement already satisfied: pygments<3.0.0,>=2.13.0 in /usr/local/lib/python3.10/dist-packages (from rich<14.0.0,>=13.0.0->sagemaker-core<2.0.0,>=1.0.0->sagemaker<3.0.0,>=2.232.1->cohere) (2.18.0)\n",
            "Requirement already satisfied: Mako in /usr/local/lib/python3.10/dist-packages (from alembic!=1.10.0,<2->mlflow>=2.8->sagemaker-mlflow->sagemaker<3.0.0,>=2.232.1->cohere) (1.3.5)\n",
            "Requirement already satisfied: Werkzeug>=2.2.2 in /usr/local/lib/python3.10/dist-packages (from Flask<4->mlflow>=2.8->sagemaker-mlflow->sagemaker<3.0.0,>=2.232.1->cohere) (3.0.4)\n",
            "Requirement already satisfied: itsdangerous>=2.0 in /usr/local/lib/python3.10/dist-packages (from Flask<4->mlflow>=2.8->sagemaker-mlflow->sagemaker<3.0.0,>=2.232.1->cohere) (2.2.0)\n",
            "Requirement already satisfied: graphql-core<3.3,>=3.1 in /usr/local/lib/python3.10/dist-packages (from graphene<4->mlflow>=2.8->sagemaker-mlflow->sagemaker<3.0.0,>=2.232.1->cohere) (3.2.5)\n",
            "Requirement already satisfied: graphql-relay<3.3,>=3.1 in /usr/local/lib/python3.10/dist-packages (from graphene<4->mlflow>=2.8->sagemaker-mlflow->sagemaker<3.0.0,>=2.232.1->cohere) (3.2.0)\n",
            "Requirement already satisfied: aniso8601<10,>=8 in /usr/local/lib/python3.10/dist-packages (from graphene<4->mlflow>=2.8->sagemaker-mlflow->sagemaker<3.0.0,>=2.232.1->cohere) (9.0.1)\n",
            "Requirement already satisfied: MarkupSafe>=2.0 in /usr/local/lib/python3.10/dist-packages (from Jinja2<4,>=2.11->mlflow>=2.8->sagemaker-mlflow->sagemaker<3.0.0,>=2.232.1->cohere) (3.0.1)\n",
            "Requirement already satisfied: mdurl~=0.1 in /usr/local/lib/python3.10/dist-packages (from markdown-it-py>=2.2.0->rich<14.0.0,>=13.0.0->sagemaker-core<2.0.0,>=1.0.0->sagemaker<3.0.0,>=2.232.1->cohere) (0.1.2)\n",
            "Requirement already satisfied: contourpy>=1.0.1 in /usr/local/lib/python3.10/dist-packages (from matplotlib<4->mlflow>=2.8->sagemaker-mlflow->sagemaker<3.0.0,>=2.232.1->cohere) (1.3.0)\n",
            "Requirement already satisfied: cycler>=0.10 in /usr/local/lib/python3.10/dist-packages (from matplotlib<4->mlflow>=2.8->sagemaker-mlflow->sagemaker<3.0.0,>=2.232.1->cohere) (0.12.1)\n",
            "Requirement already satisfied: fonttools>=4.22.0 in /usr/local/lib/python3.10/dist-packages (from matplotlib<4->mlflow>=2.8->sagemaker-mlflow->sagemaker<3.0.0,>=2.232.1->cohere) (4.54.1)\n",
            "Requirement already satisfied: kiwisolver>=1.0.1 in /usr/local/lib/python3.10/dist-packages (from matplotlib<4->mlflow>=2.8->sagemaker-mlflow->sagemaker<3.0.0,>=2.232.1->cohere) (1.4.7)\n",
            "Requirement already satisfied: pillow>=6.2.0 in /usr/local/lib/python3.10/dist-packages (from matplotlib<4->mlflow>=2.8->sagemaker-mlflow->sagemaker<3.0.0,>=2.232.1->cohere) (10.4.0)\n",
            "Requirement already satisfied: joblib>=1.2.0 in /usr/local/lib/python3.10/dist-packages (from scikit-learn<2->mlflow>=2.8->sagemaker-mlflow->sagemaker<3.0.0,>=2.232.1->cohere) (1.4.2)\n",
            "Requirement already satisfied: threadpoolctl>=3.1.0 in /usr/local/lib/python3.10/dist-packages (from scikit-learn<2->mlflow>=2.8->sagemaker-mlflow->sagemaker<3.0.0,>=2.232.1->cohere) (3.5.0)\n",
            "Requirement already satisfied: gitdb<5,>=4.0.1 in /usr/local/lib/python3.10/dist-packages (from gitpython<4,>=3.1.9->mlflow-skinny==2.17.0->mlflow>=2.8->sagemaker-mlflow->sagemaker<3.0.0,>=2.232.1->cohere) (4.0.11)\n",
            "Requirement already satisfied: deprecated>=1.2.6 in /usr/local/lib/python3.10/dist-packages (from opentelemetry-api<3,>=1.9.0->mlflow-skinny==2.17.0->mlflow>=2.8->sagemaker-mlflow->sagemaker<3.0.0,>=2.232.1->cohere) (1.2.14)\n",
            "Requirement already satisfied: setuptools>=16.0 in /usr/local/lib/python3.10/dist-packages (from opentelemetry-api<3,>=1.9.0->mlflow-skinny==2.17.0->mlflow>=2.8->sagemaker-mlflow->sagemaker<3.0.0,>=2.232.1->cohere) (71.0.4)\n",
            "Requirement already satisfied: opentelemetry-semantic-conventions==0.37b0 in /usr/local/lib/python3.10/dist-packages (from opentelemetry-sdk<3,>=1.9.0->mlflow-skinny==2.17.0->mlflow>=2.8->sagemaker-mlflow->sagemaker<3.0.0,>=2.232.1->cohere) (0.37b0)\n",
            "Requirement already satisfied: wrapt<2,>=1.10 in /usr/local/lib/python3.10/dist-packages (from deprecated>=1.2.6->opentelemetry-api<3,>=1.9.0->mlflow-skinny==2.17.0->mlflow>=2.8->sagemaker-mlflow->sagemaker<3.0.0,>=2.232.1->cohere) (1.16.0)\n",
            "Requirement already satisfied: smmap<6,>=3.0.1 in /usr/local/lib/python3.10/dist-packages (from gitdb<5,>=4.0.1->gitpython<4,>=3.1.9->mlflow-skinny==2.17.0->mlflow>=2.8->sagemaker-mlflow->sagemaker<3.0.0,>=2.232.1->cohere) (5.0.1)\n"
          ]
        }
      ],
      "source": [
        "!pip install langchain pinecone-client langchain-google-genai cohere langchain_community langchain-groq pypdf"
      ]
    },
    {
      "cell_type": "code",
      "execution_count": 46,
      "metadata": {
        "id": "FMEMrAfrV8bh"
      },
      "outputs": [],
      "source": [
        "import os\n",
        "from langchain_community.document_loaders import PyPDFDirectoryLoader\n",
        "from langchain.text_splitter import RecursiveCharacterTextSplitter\n",
        "from pinecone import ServerlessSpec\n",
        "from langchain_community.vectorstores import Pinecone\n",
        "import pinecone\n",
        "import cohere\n",
        "from langchain_google_genai import GoogleGenerativeAIEmbeddings\n",
        "from langchain_groq import ChatGroq\n",
        "from langchain.chains.question_answering import load_qa_chain"
      ]
    },
    {
      "cell_type": "code",
      "execution_count": 47,
      "metadata": {
        "id": "XEBAaX_cWXQ_"
      },
      "outputs": [],
      "source": [
        "# API Keys (Change with placeholder)\n",
        "GOOGLE_API_KEY = 'your-google-api-key'\n",
        "GROQ_API_KEY = 'your-groq-api-key'\n",
        "COHERE_API_KEY = \"your-cohere-api-key\"\n",
        "PINECONE_API_KEY = \"your-pinecone-api-ke\"\n",
        "os.environ['PINECONE_API_KEY'] = PINECONE_API_KEY\n",
        "folder_path = '/content/Sample Pdfs' # Make directory with pdfs and give its path"
      ]
    },
    {
      "cell_type": "code",
      "execution_count": 48,
      "metadata": {
        "id": "4pO6sviBYpu3"
      },
      "outputs": [],
      "source": [
        "def load_documents(pdf_dir):\n",
        "  '''\n",
        "  Loads the PDF files from the directory as documents.\n",
        "  Input: Path to the directory containing PDF files.\n",
        "  Output: List of documents.\n",
        "  '''\n",
        "  try:\n",
        "      file_loader = PyPDFDirectoryLoader(pdf_dir)\n",
        "      documents = file_loader.load()\n",
        "      print(\"All documents loaded successfully.\")\n",
        "      return documents\n",
        "  except Exception as e:\n",
        "      print(f\"Error loading documents: {e}\")"
      ]
    },
    {
      "cell_type": "code",
      "execution_count": 49,
      "metadata": {
        "id": "TEi44o6YY60k"
      },
      "outputs": [],
      "source": [
        "def chunk_documents(docs, chunk_size=1500, chunk_overlap=150):\n",
        "  '''\n",
        "  Splits the documents into smaller chunks for better processing.\n",
        "  Input: List of documents, chunk_size, and chunk_overlap parameters.\n",
        "  Output: List of document chunks.\n",
        "  '''\n",
        "  try:\n",
        "      text_splitter = RecursiveCharacterTextSplitter(chunk_size=chunk_size, chunk_overlap=chunk_overlap)\n",
        "      chunks = text_splitter.split_documents(docs)\n",
        "      print(\"Documents split into chunks successfully.\")\n",
        "      return chunks\n",
        "  except Exception as e:\n",
        "      print(f\"Error splitting documents: {e}\")"
      ]
    },
    {
      "cell_type": "code",
      "execution_count": 50,
      "metadata": {
        "id": "kEOZBNT_ZAzO"
      },
      "outputs": [],
      "source": [
        "def initialize_pinecone(api_key, index_name, dimension=768, metric='cosine', cloud='aws', region='us-east-1'):\n",
        "  '''\n",
        "  Initializes Pinecone with the specified parameters.\n",
        "  Input: API key, index name, dimension, and other configuration options.\n",
        "  Output: None (Creates a Pinecone index).\n",
        "  '''\n",
        "  try:\n",
        "      pc = pinecone.Pinecone(api_key=api_key)\n",
        "      if index_name in pc.list_indexes().names():\n",
        "          pc.delete_index(index_name)\n",
        "      pc.create_index(\n",
        "          name=index_name,\n",
        "          dimension=dimension,\n",
        "          metric=metric,\n",
        "          spec=ServerlessSpec(\n",
        "              cloud=cloud,\n",
        "              region=region\n",
        "          )\n",
        "      )\n",
        "      print(f\"Pinecone index '{index_name}' created successfully.\")\n",
        "  except Exception as e:\n",
        "      print(f\"Error initializing Pinecone: {e}\")"
      ]
    },
    {
      "cell_type": "code",
      "execution_count": 51,
      "metadata": {
        "id": "7Kmiwh1FZPVt"
      },
      "outputs": [],
      "source": [
        "def create_vector_store(documents, embeddings, index_name):\n",
        "  '''\n",
        "  Creates a Pinecone vector store using the document embeddings.\n",
        "  Input: List of document chunks, embeddings, and index name.\n",
        "  Output: Pinecone vector store.\n",
        "  '''\n",
        "  try:\n",
        "      index = Pinecone.from_documents(documents, embeddings, index_name=index_name)\n",
        "      print(\"Vector store created successfully.\")\n",
        "      return index\n",
        "  except Exception as e:\n",
        "      print(f\"Error creating vector store: {e}\")\n",
        "      raise"
      ]
    },
    {
      "cell_type": "code",
      "execution_count": 52,
      "metadata": {
        "colab": {
          "base_uri": "https://localhost:8080/"
        },
        "id": "G--rG0xyZX2R",
        "outputId": "149ba38c-6ef8-4def-d8c6-4595d3f54a40"
      },
      "outputs": [
        {
          "name": "stdout",
          "output_type": "stream",
          "text": [
            "Pinecone index 'langcha' created successfully.\n"
          ]
        }
      ],
      "source": [
        "# Initialize Embeddings and Vector Store\n",
        "embeddings = GoogleGenerativeAIEmbeddings(google_api_key=GOOGLE_API_KEY, model=\"models/embedding-001\")\n",
        "initialize_pinecone(api_key=PINECONE_API_KEY, index_name=\"langcha\")"
      ]
    },
    {
      "cell_type": "code",
      "execution_count": 53,
      "metadata": {
        "colab": {
          "base_uri": "https://localhost:8080/"
        },
        "id": "0TdFXmpgZbsh",
        "outputId": "7f98189c-5a61-43a9-f299-16551ceb32fa"
      },
      "outputs": [
        {
          "name": "stdout",
          "output_type": "stream",
          "text": [
            "All documents loaded successfully.\n",
            "Documents split into chunks successfully.\n"
          ]
        }
      ],
      "source": [
        "# Load PDFs and Create Document Chunks\n",
        "documents = load_documents(folder_path)\n",
        "chunks = chunk_documents(documents)"
      ]
    },
    {
      "cell_type": "code",
      "execution_count": 54,
      "metadata": {
        "colab": {
          "base_uri": "https://localhost:8080/"
        },
        "id": "5A2J0DjUaxYm",
        "outputId": "58c40329-79e6-4c5c-b578-ea7465f63cb3"
      },
      "outputs": [
        {
          "name": "stdout",
          "output_type": "stream",
          "text": [
            "Vector store created successfully.\n"
          ]
        }
      ],
      "source": [
        "# Create Vector Store\n",
        "vector_store = create_vector_store(chunks, embeddings, \"langcha\")"
      ]
    },
    {
      "cell_type": "code",
      "execution_count": 55,
      "metadata": {
        "id": "DRLx0HdSdE_r"
      },
      "outputs": [],
      "source": [
        "def rerank_results_with_cohere(query, search_results, cohere_api_key,\n",
        "                               rerank_model='rerank-english-v3.0',\n",
        "                               relevance_threshold=0.001):\n",
        "  '''\n",
        "  Reranks search results based on relevance using Cohere's model.\n",
        "  Input: Query, search results, Cohere API key, rerank model, and relevance threshold.\n",
        "  Output: Reranked search results.\n",
        "  '''\n",
        "  try:\n",
        "      co = cohere.Client(api_key=cohere_api_key)\n",
        "      documents = [doc.page_content for doc in search_results]\n",
        "      rerank_response = co.rerank(query=query, documents=documents, model=rerank_model)\n",
        "\n",
        "      reranked_results = sorted(\n",
        "          [\n",
        "              (doc, result.relevance_score)\n",
        "              for doc, result in zip(search_results, rerank_response.results)\n",
        "              if result.relevance_score >= relevance_threshold  # Apply the relevance score threshold\n",
        "          ],\n",
        "          key=lambda x: x[1], reverse=True  # Sort by relevance score in descending order\n",
        "      )\n",
        "\n",
        "      print(\"Results successfully reranked using Cohere.\")\n",
        "      return [result[0] for result in reranked_results]\n",
        "  except Exception as e:\n",
        "      print(f\"Error reranking results: {e}\")"
      ]
    },
    {
      "cell_type": "code",
      "execution_count": 56,
      "metadata": {
        "id": "8_OR5Bg3dfO3"
      },
      "outputs": [],
      "source": [
        "# Define the Document class to handle the document structure\n",
        "class Document:\n",
        "    def __init__(self, metadata, page_content):\n",
        "        self.metadata = metadata\n",
        "        self.page_content = page_content"
      ]
    },
    {
      "cell_type": "code",
      "execution_count": 57,
      "metadata": {
        "id": "R2L4oF_ocRm7"
      },
      "outputs": [],
      "source": [
        "def retrieve_answers(index, chain, query, cohere_api_key):\n",
        "  '''\n",
        "  Retrieves the answer using the question-answering chain and reranks results using Cohere.\n",
        "  Input: Index (vector store), chain, query, and Cohere API key.\n",
        "  Output: The final answer.\n",
        "  '''\n",
        "  try:\n",
        "      search_results = index.similarity_search(query, k=8)\n",
        "      if len(search_results)==0:\n",
        "          search_results = [Document(metadata='metadata', page_content='There is not relevant content')]\n",
        "      reranked_results = rerank_results_with_cohere(query, search_results, cohere_api_key)\n",
        "      response = chain.run(input_documents=reranked_results, question=query)\n",
        "      return response\n",
        "  except Exception as e:\n",
        "      print(f\"Error retrieving answers: {e}\")"
      ]
    },
    {
      "cell_type": "code",
      "execution_count": 58,
      "metadata": {
        "id": "AiM3qtxpc0jH"
      },
      "outputs": [],
      "source": [
        "# LLM Chain Initialization\n",
        "llm = ChatGroq(groq_api_key=GROQ_API_KEY, model_name=\"Llama3-8b-8192\")\n",
        "qa_chain = load_qa_chain(llm, chain_type=\"stuff\")"
      ]
    },
    {
      "cell_type": "code",
      "execution_count": 59,
      "metadata": {
        "colab": {
          "base_uri": "https://localhost:8080/"
        },
        "id": "E-hc56Lne8gq",
        "outputId": "23ca8bd6-1167-4b43-b18a-e88c256adc13"
      },
      "outputs": [
        {
          "name": "stdout",
          "output_type": "stream",
          "text": [
            "Results successfully reranked using Cohere.\n",
            "The code for a simple calculator program is provided below. This program allows the user to select an operation (addition, subtraction, multiplication, or division) and then enter two numbers. The program will then perform the selected operation on the two numbers and display the result.\n",
            "\n",
            "```python\n",
            "# Program make a simple calculator that can add, subtract, multiply and divide \n",
            "using functions  \n",
            "# define functions  \n",
            "def add(x, y):  \n",
            "    \"\"\"This function adds two numbers\"\"\"          \n",
            "    return x + y  \n",
            "def subtract(x, y):  \n",
            "    \"\"This function subtracts two numbers\"\"\"         \n",
            "    return x - y  \n",
            "def multiply(x, y):  \n",
            "    \"\"\"This function multiplies two numbers\"\"\"   \n",
            "    return x * y  \n",
            "def divide(x, y):  \n",
            "    \"\"\"This function divides two numbers\"\"\"  \n",
            "    return x / y  \n",
            "\n",
            "# take input from the user \n",
            "print(\"Select operation.\") \n",
            "print(\"1.Add\") \n",
            "print(\"2.Subtract\") \n",
            "print(\"3.Multiply\")\n",
            "print(\"4.Divide\")  \n",
            "choice = input(\"Enter choice(1/2/3/4):\")  \n",
            "num1 = int(input(\"Enter first number: \"))  \n",
            "num2 = int(input(\"Enter second number: \"))  \n",
            "\n",
            "if choice == '1':  \n",
            "    print(num1,\"+\",num2,\"=\", add(num1,num2))  \n",
            "elif choice == '2':  \n",
            "    print(num1,\" -\",num2,\"=\",  subtract(num1,num2))  \n",
            "elif choice ==  '3': \n",
            "    print(num1,\"*\",num2,\"=\",  multiply(num1,num2))  \n",
            "elif choice ==  '4': \n",
            "    if num2 != 0: \n",
            "        print(num1,\"/\",num2,\"=\", divide(num1,num2))  \n",
            "    else: \n",
            "        print(\"Error! Division by zero is not allowed.\")  \n",
            "else: \n",
            "    print(\"Invalid input\")  \n",
            "```\n",
            "\n",
            "This code will ask the user to select an operation, then enter two numbers. It will then perform the selected operation on the two numbers and display the result. The user can select addition, subtraction, multiplication, or division. For division, the program will check if the second number is zero to avoid a division by zero error.\n"
          ]
        }
      ],
      "source": [
        "# Ask a Question\n",
        "query = \"code for simple calculator\"\n",
        "answer = retrieve_answers(vector_store, qa_chain, query, cohere_api_key=COHERE_API_KEY)\n",
        "print(answer)"
      ]
    },
    {
      "cell_type": "code",
      "execution_count": 60,
      "metadata": {
        "colab": {
          "base_uri": "https://localhost:8080/"
        },
        "id": "9SjyQTZyfSfW",
        "outputId": "b193bbef-e51f-4065-fd5f-e6bdeff3b1ac"
      },
      "outputs": [
        {
          "name": "stdout",
          "output_type": "stream",
          "text": [
            "Results successfully reranked using Cohere.\n",
            "According to the provided context, the requirements for the RAG (Retrieval-Augmented Generation) QA-Bot task are:\n",
            "\n",
            "1. Implement a RAG-based model that can handle questions related to a provided document or dataset.\n",
            "2. Use a vector database (such as Pinecone) to store and retrieve document embeddings efficiently.\n",
            "3. Test the model with several queries and show how well it retrieves and generates accurate answers from the document.\n",
            "\n",
            "These requirements are specified in the \"Task Requirements\" section of the Part 1: Retrieval-Augmented Generation Model for QA Bot problem statement.\n"
          ]
        }
      ],
      "source": [
        "# Ask a Question\n",
        "query = \"Which are requirements in Rag QA-Bot task ?\"\n",
        "answer = retrieve_answers(vector_store, qa_chain, query, cohere_api_key=COHERE_API_KEY)\n",
        "print(answer)"
      ]
    },
    {
      "cell_type": "code",
      "execution_count": 61,
      "metadata": {
        "colab": {
          "base_uri": "https://localhost:8080/"
        },
        "id": "sLmoTczGf_bq",
        "outputId": "78fa51b2-8a98-4046-855d-89d6117e0765"
      },
      "outputs": [
        {
          "name": "stdout",
          "output_type": "stream",
          "text": [
            "Results successfully reranked using Cohere.\n",
            "Based on the provided context, the following questions can be asked for viva on Depth First Search practical:\n",
            "\n",
            "1. What is Depth -First -Search. (Available on page 25)\n",
            "2. Differences between BFS and DFS. (Available on page 28)\n",
            "3. What is DFS. (Available on page 27)\n",
            "\n",
            "These questions can be asked for viva on Depth First Search practical, which is available on page 27-30.\n"
          ]
        }
      ],
      "source": [
        "# Ask a Question\n",
        "query = \"Which questions can be asked for viva on Depth First Search practical and on which page number they are available ?\"\n",
        "answer = retrieve_answers(vector_store, qa_chain, query, cohere_api_key=COHERE_API_KEY)\n",
        "print(answer)"
      ]
    },
    {
      "cell_type": "code",
      "execution_count": 62,
      "metadata": {
        "colab": {
          "base_uri": "https://localhost:8080/"
        },
        "id": "Dnbwjyb8g565",
        "outputId": "fed9238c-5442-49d8-8534-e28f0f1b8599"
      },
      "outputs": [
        {
          "name": "stdout",
          "output_type": "stream",
          "text": [
            "Results successfully reranked using Cohere.\n",
            "Here is the code for Breadth-First Search (BFS):\n",
            "\n",
            "```\n",
            "graph = {  \n",
            "'5' : ['3','7'],  \n",
            "'3' : ['2',  '4'], \n",
            "'7' : ['8'],  \n",
            "'2' : [],  \n",
            "'4' : ['8'],  \n",
            "'8' : []  \n",
            "} \n",
            " \n",
            "visited = [] # List for visited  nodes. \n",
            "queue  = [] #Initialize a  queue  \n",
            " \n",
            "def bfs(visited, graph, node): #function for BFS \n",
            "    visited.append(node)  \n",
            "    queue.append(node)  \n",
            " \n",
            "    while  queue:  # Creating loop to visit each node \n",
            "        m = queue.pop(0)  \n",
            "        print (m, end = \" \")  \n",
            " \n",
            "        for neighbour in graph[m]:  \n",
            "            if neighbour not in visited: \n",
            "                visited.append(neighbour) \n",
            "                queue.append(neighbour)  \n",
            " \n",
            "# Driver Code  \n",
            "print(\"Following is the Breadth -First Search\") \n",
            "bfs(visited,  graph,  '5') # function  calling \n",
            "```\n",
            "\n",
            "Output:\n",
            "\n",
            "```\n",
            "Following is the Breadth -First Search \n",
            "5 3 7 2 4 8\n",
            "```\n",
            "\n",
            "Explanation: The BFS algorithm starts by visiting the given node (5) and then all its adjacent nodes (3 and 7). Then it visits the nodes that are not visited yet from the nodes that are already visited (in this case, 3 and 7). This process continues until all nodes are visited.\n"
          ]
        }
      ],
      "source": [
        "# Ask a Question\n",
        "query = \"write code for Breadth First Search and also show how output looks like\"\n",
        "answer = retrieve_answers(vector_store, qa_chain, query, cohere_api_key=COHERE_API_KEY)\n",
        "print(answer)"
      ]
    },
    {
      "cell_type": "code",
      "execution_count": 63,
      "metadata": {
        "colab": {
          "base_uri": "https://localhost:8080/"
        },
        "id": "XoPP5Hw5hglq",
        "outputId": "4522a4db-fb0c-471c-b11d-10c4c30d6208"
      },
      "outputs": [
        {
          "name": "stdout",
          "output_type": "stream",
          "text": [
            "Results successfully reranked using Cohere.\n",
            "The project is \"Interactive QA Bot Interface\" and it's a program to implement a simple chatbot.\n"
          ]
        }
      ],
      "source": [
        "# Ask a Question\n",
        "query = \"What is name of the project ?\"\n",
        "answer = retrieve_answers(vector_store, qa_chain, query, cohere_api_key=COHERE_API_KEY)\n",
        "print(answer)"
      ]
    },
    {
      "cell_type": "code",
      "execution_count": 64,
      "metadata": {
        "colab": {
          "base_uri": "https://localhost:8080/"
        },
        "id": "_rGokz6SjsrQ",
        "outputId": "3e7d952d-cb7c-44f4-e87a-eb92c53eb22f"
      },
      "outputs": [
        {
          "name": "stdout",
          "output_type": "stream",
          "text": [
            "Results successfully reranked using Cohere.\n",
            "Based on the provided context, it appears that the types of questions that can be asked in a viva (oral examination) in the context of Artificial Intelligence Lab, Department of CSE, include:\n",
            "\n",
            "1. Conceptual questions: These questions test the candidate's understanding of various AI concepts, such as NLP, chatbots, search algorithms, and knowledge representation.\n",
            "2. Definition-based questions: These questions ask the candidate to define specific terms or concepts, such as AO* Search, Knowledge Representation Issues, or Breadth-First Search.\n",
            "3. Comparison-based questions: These questions ask the candidate to compare and contrast different concepts, such as informed and uninformed search or various search algorithms.\n",
            "4. Example-based questions: These questions ask the candidate to provide examples or illustrate concepts using real-world scenarios or code snippets, such as string functions in Python or list indexing and slicing.\n",
            "5. Method-based questions: These questions ask the candidate to describe the steps involved in a particular process or algorithm, such as list methods in Python.\n",
            "\n",
            "These types of questions are designed to assess the candidate's knowledge, understanding, and application of AI concepts and technologies.\n"
          ]
        }
      ],
      "source": [
        "# Ask a Question\n",
        "query = \"Which types of questions can be asked in viva ? \"\n",
        "answer = retrieve_answers(vector_store, qa_chain, query, cohere_api_key=COHERE_API_KEY)\n",
        "print(answer)"
      ]
    },
    {
      "cell_type": "code",
      "execution_count": 65,
      "metadata": {
        "colab": {
          "base_uri": "https://localhost:8080/"
        },
        "id": "JgabsYMOj9vm",
        "outputId": "17fc3b70-415e-4751-db96-9ace891d3c42"
      },
      "outputs": [
        {
          "name": "stdout",
          "output_type": "stream",
          "text": [
            "Results successfully reranked using Cohere.\n",
            "According to the provided context, the system requirements for the lab are:\n",
            "\n",
            "* Processors: Intel Atom or Intel Core i3 processor\n",
            "* Disk space: 1 GB\n",
            "* Operating systems: Windows 7 or later, macOS, and Linux\n",
            "* Python versions: 2.7.X, 3.6.X, and 3.8.X\n"
          ]
        }
      ],
      "source": [
        "# Ask a Question\n",
        "query = \"System requirements for lab\"\n",
        "answer = retrieve_answers(vector_store, qa_chain, query, cohere_api_key=COHERE_API_KEY)\n",
        "print(answer)"
      ]
    },
    {
      "cell_type": "code",
      "execution_count": 39,
      "metadata": {
        "id": "DzdqRCZ-x7Tx"
      },
      "outputs": [],
      "source": []
    }
  ],
  "metadata": {
    "accelerator": "GPU",
    "colab": {
      "gpuType": "T4",
      "provenance": []
    },
    "kernelspec": {
      "display_name": "Python 3",
      "name": "python3"
    },
    "language_info": {
      "name": "python"
    }
  },
  "nbformat": 4,
  "nbformat_minor": 0
}
